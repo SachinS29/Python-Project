{
 "cells": [
  {
   "cell_type": "markdown",
   "id": "57672bca",
   "metadata": {},
   "source": [
    "## Hypothesis Testing \n",
    "<br>&nbsp;&nbsp;&nbsp;&nbsp;&nbsp;o **[Introduction to hypothesis testing](#type)**\n",
    "<br>&nbsp;&nbsp;&nbsp;&nbsp;&nbsp;o **[Defining a null and alternate hypothesis](#type)**\n",
    "<br>&nbsp;&nbsp;&nbsp;&nbsp;&nbsp;o **[Types of alternate hypothesis -  One tail vs two tail test](#type)**\n",
    "<br>&nbsp;&nbsp;&nbsp;&nbsp;&nbsp;o **[Type 1 and type 2 error](#type)**\n",
    "<br>&nbsp;&nbsp;&nbsp;&nbsp;&nbsp;o **[Hypothesis testing applications using the z test](#type)**\n",
    "<br>&nbsp;&nbsp;&nbsp;&nbsp;&nbsp;o **[Interpreting test results](#type)**\n",
    "<br>&nbsp;&nbsp;&nbsp;&nbsp;&nbsp;o **[P-value vs confidence interval approach](#type)**\n",
    "<br>&nbsp;&nbsp;&nbsp;&nbsp;&nbsp;o **[Hypothesis testing for small samples - the t distribution](#type)**\n",
    "<br>&nbsp;&nbsp;&nbsp;&nbsp;&nbsp;o **[Two sample t-test – unpaired and paired t-test](#type)**"
   ]
  }
 ],
 "metadata": {
  "kernelspec": {
   "display_name": "Python 3 (ipykernel)",
   "language": "python",
   "name": "python3"
  },
  "language_info": {
   "codemirror_mode": {
    "name": "ipython",
    "version": 3
   },
   "file_extension": ".py",
   "mimetype": "text/x-python",
   "name": "python",
   "nbconvert_exporter": "python",
   "pygments_lexer": "ipython3",
   "version": "3.9.5"
  }
 },
 "nbformat": 4,
 "nbformat_minor": 5
}
