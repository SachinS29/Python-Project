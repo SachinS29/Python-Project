{
 "cells": [
  {
   "cell_type": "markdown",
   "id": "2d140119",
   "metadata": {},
   "source": [
    "# Session – 1 Introduction to Statistics\n",
    "\n",
    "<br>&nbsp;&nbsp;&nbsp;&nbsp;&nbsp;o **[Types of Statistics - Descriptive and Inferential Statistics](#type)**\n",
    "<br>&nbsp;&nbsp;&nbsp;&nbsp;&nbsp;o **[Data Sources and Types of Datasets](#ds)**\n",
    "<br>&nbsp;&nbsp;&nbsp;&nbsp;&nbsp;o **[Attributes of Datasets](#ad)**\n",
    "<br>&nbsp;&nbsp;&nbsp;&nbsp;&nbsp;o Frequency Distribution - Histograms\n",
    "<br>&nbsp;&nbsp;&nbsp;&nbsp;&nbsp;o Cumulative Frequency Distribution\n",
    "<br>&nbsp;&nbsp;&nbsp;&nbsp;&nbsp;o **[Measures of Central Tendency](#mct)** - Mean, Median, Mode\n",
    "<br>&nbsp;&nbsp;&nbsp;&nbsp;&nbsp;o **[Measures of Dispersion](#md)** - Range, IQR, Standard Deviation, coefficient of variation\n",
    "<br>&nbsp;&nbsp;&nbsp;&nbsp;&nbsp;o **[Normal distribution](#nd)** Chebyshev Rule\n",
    "<br>&nbsp;&nbsp;&nbsp;&nbsp;&nbsp;o Five number summary, boxplots, QQ plots, Quantile plot, scatter plot.\n",
    "<br>&nbsp;&nbsp;&nbsp;&nbsp;&nbsp;o Visualization: scatter plot matrix.\n",
    "<br>&nbsp;&nbsp;&nbsp;&nbsp;&nbsp;o Correlation analysis\n"
   ]
  },
  {
   "cell_type": "markdown",
   "id": "fb786ccc",
   "metadata": {},
   "source": [
    "### Statistics is the art and science of collecting, presenting, analyzing and interpreting data\n",
    "<br>&nbsp;&nbsp;&nbsp;&nbsp;&nbsp;o Data can also be classified as qualitative or quantitative.\n",
    "Ordinal, interval and ratio scale data are also\n",
    "known as quantitative data. \n",
    "<br>&nbsp;&nbsp;&nbsp;&nbsp;&nbsp;o Depending on the nature of data collection, data may also be known as\n",
    "cross-sectional or time-series.\n",
    "<br>&nbsp;&nbsp;&nbsp;&nbsp;&nbsp;o Data is collected in one of the following scales of measurements: nominal, ordinal, interval or ratio. \n",
    "<br>&nbsp;&nbsp;&nbsp;&nbsp;&nbsp;o When two (or more) variables are observed on each unit or individual in a sample, the data is known as bivariate (or\n",
    "multivariate) data. \n",
    "<br>&nbsp;&nbsp;&nbsp;&nbsp;&nbsp;o Mean: The average value.\n",
    "<br>&nbsp;&nbsp;&nbsp;&nbsp;&nbsp;o Median: The middle value.\n",
    "<br>&nbsp;&nbsp;&nbsp;&nbsp;&nbsp;o Mode: The value that occurs most often.\n",
    "<br>&nbsp;&nbsp;&nbsp;&nbsp;&nbsp;o a symmetric distribution is a distribution in which the left and right sides mirror each other.\n",
    "<br>&nbsp;&nbsp;&nbsp;&nbsp;&nbsp;o For symmetric distributions, the skewness is zero.\n",
    "<br>&nbsp;&nbsp;&nbsp;&nbsp;&nbsp;o Left Skewed Distribution: Mean < Median < Mode\n",
    "<br>&nbsp;&nbsp;&nbsp;&nbsp;&nbsp;o Right Skewed Distribution: Mode < Median < Mean\n",
    "<br>&nbsp;&nbsp;&nbsp;&nbsp;&nbsp;o In a symmetrical distribution, the mean, median, and mode are all equal.\n",
    "Skewness is a way to describe the symmetry of a distribution.\n",
    "<br>&nbsp;&nbsp;&nbsp;&nbsp;&nbsp;o A special case of normal distribution is when µ = 0 and σ = 1. This is known as the standard normal\n",
    "distribution and the random variable is denoted by Z. "
   ]
  },
  {
   "cell_type": "markdown",
   "id": "8c7711c5",
   "metadata": {},
   "source": [
    "<a id=\"type\"></a>\n",
    "## Types of Statistics - \n",
    "1. **[Descriptive](#des)**\n",
    "2. **[Inferential Statistics](#inf)**"
   ]
  },
  {
   "cell_type": "markdown",
   "id": "e8e007ee",
   "metadata": {},
   "source": [
    "<a id=\"des\"></a>\n",
    "\n",
    "<b>Descriptive Statistics</b> is concerned with Data Summarization, Graphs/Charts, and Tables.<br>\n",
    "Descriptive statistics summarizes or describes the given data. It includes measures of central tendency, measures of dispersion and distribution of the data."
   ]
  },
  {
   "cell_type": "markdown",
   "id": "75462763",
   "metadata": {},
   "source": [
    "<a id = \"inf\"></a>\n",
    "<b>Inferential Statistics</b> method used to talk about a Population Parameter from a Sample."
   ]
  },
  {
   "cell_type": "markdown",
   "id": "4d1fba67",
   "metadata": {},
   "source": [
    "<a id=\"ds\"></a>\n",
    "## Data Sources and Types of Datasets\n",
    "1. **<b>Primary Data<b>** are collected by the organization itself for\n",
    "a particular purpose. The benefits of primary data are that they\n",
    "fit the needs exactly, are up to date, and reliable.\n",
    "2. **<b>Secondary Data</b>** are collected by other organizations or for other\n",
    "purposes. Any data, which are not collected by the organization\n",
    "for the specified purpose, are secondary data. These may be\n",
    "published by other organizations, available from research\n",
    "studies, published by the government, web, social media and so\n",
    "on."
   ]
  },
  {
   "cell_type": "markdown",
   "id": "96803e14",
   "metadata": {},
   "source": [
    "<a id=\"ad\"></a>\n",
    "## Attributes of Datasets \n",
    "<b>Attribute (or dimensions, features, variables)</b>: a data field, \n",
    "representing a characteristic or feature of a data object.\n",
    "<br>• E.g., customer _ID, name, address"
   ]
  },
  {
   "cell_type": "markdown",
   "id": "d33c7ebf",
   "metadata": {},
   "source": [
    "###  <center><b>Type of attributes</b></center>\n",
    "<table align=\"left\" width=100%>\n",
    "    <tr>\n",
    "        <td width=\"100%\">\n",
    "            <img src=\"Type of attributes.jpg\">\n",
    "        </td>\n",
    "        <td>\n",
    "            <div align=\"center\">\n",
    "                <font color=\"#21618C\" size=8px>\n",
    "                  <b> Type of attributes </b>\n",
    "                </font>\n",
    "            </div>\n",
    "        </td>\n",
    "    </tr>\n",
    "</table>"
   ]
  },
  {
   "cell_type": "markdown",
   "id": "1e0068d9",
   "metadata": {},
   "source": [
    "<b>Qualitative data</b> deals with characteristics and descriptors that can't be easily measured, but can be observed subjectively—such as smells, tastes, textures, attractiveness, and color.\n",
    " - 1 - **Nominal**: <br>The values of a Nominal attribute are names of things, some kind of symbols. Values of Nominal attributes represents some category or state and that’s why nominal attribute also referred as categorical attributes and there is no order (rank, position) among values of the nominal attribute.<br>Examples: Colors: black,white,red <br> .\n",
    " <table align=\"left\" width=100%>\n",
    "    <tr>\n",
    "        <td width=\"300%\">\n",
    "            <img src=\"Nominal.png\">\n",
    "        </td>\n",
    "        <td>\n",
    "            <div align=\"center\">\n",
    "                <font color=\"#21618C\" size=8px>\n",
    "                  <b> Type of attributes </b>\n",
    "                </font>\n",
    "            </div>\n",
    "        </td>\n",
    "    </tr>\n",
    "</table>\n",
    "\n",
    " -2 - **Ordinal**:<br>The Ordinal Attributes contains values that have a meaningful sequence or ranking(order) between them, but the magnitude between values is not actually known, the order of values that shows what is important but don’t indicate how important it is. \n",
    "  <table align=\"left\" width=100%>\n",
    "    <tr>\n",
    "        <td width=\"300%\">\n",
    "            <img src=\"ordinal.jpg\">\n",
    "        </td>\n",
    "        <td>\n",
    "            <div align=\"center\">\n",
    "                <font color=\"#21618C\" size=8px>\n",
    "                  <b> Type of attributes </b>\n",
    "                </font>\n",
    "            </div>\n",
    "        </td>\n",
    "    </tr>\n",
    "</table>\n",
    "\n",
    " -3 - **Binary**:<br>Binary data has only 2 values/states. For Example yes or no, affected or unaffected, true or false. \n",
    "\n",
    "    - Symmetric: Both values are equally important (Gender). \n",
    "    - Asymmetric: Both values are not equally important (Result).\n",
    "\n"
   ]
  },
  {
   "cell_type": "markdown",
   "id": "59b1eca4",
   "metadata": {},
   "source": [
    "<b>Quantitative data</b> deals with numbers and things you can measure objectively: dimensions such as height, width, and length. Temperature and humidity. Prices. Area and volume.\n",
    "1. **Numeric:** A numeric attribute is quantitative because, it is a measurable quantity, represented in integer or real values. Numerical attributes are of 2 types, interval, and ratio. \n",
    "    - An <b>interval-scaled</b> attribute has values, whose differences are interpretable, but the numerical attributes do not have the correct reference point, or we can call zero points. Data can be added and subtracted at an interval scale but can not be multiplied or divided. Consider an example of temperature in degrees Centigrade. If a day’s temperature of one day is twice of the other day we cannot say that one day is twice as hot as another day. \n",
    "    - A <b>ratio-scaled</b> attribute is a numeric attribute with a fix zero-point. If a measurement is ratio-scaled, we can say of a value as being a multiple (or ratio) of another value. The values are ordered, and we can also compute the difference between values, and the mean, median, mode, Quantile-range, and Five number summary can be given\n",
    "2. **Discrete** : Discrete data have finite values it can be numerical and can also be in categorical form. These attributes has finite or countably infinite set of values. \n",
    "Example:\n",
    "\n",
    "   <table align=\"left\" width=100%>\n",
    "    <tr>\n",
    "        <td width=\"300%\">\n",
    "            <img src=\"discrete.jpg\">\n",
    "        </td>\n",
    "        <td>\n",
    "            <div align=\"center\">\n",
    "                <font color=\"#21618C\" size=8px>\n",
    "                  <b> Discrete </b>\n",
    "                </font>\n",
    "            </div>\n",
    "        </td>\n",
    "    </tr>\n",
    "</table>\n",
    "3. **Continuous:** Continuous data have an infinite no of states. Continuous data is of float type. There can be many values between 2 and 3. \n",
    "\n",
    "Example: \n",
    "  <table align=\"left\" width=100%>\n",
    "    <tr>\n",
    "        <td width=\"300%\">\n",
    "            <img src=\"continuous.jpg\">\n",
    "        </td>\n",
    "           <td>\n",
    "            <div align=\"center\">\n",
    "                <font color=\"#21618C\" size=8px>\n",
    "                  <b> Continuous </b>\n",
    "                </font>\n",
    "            </div>\n",
    "        </td>\n",
    "    </tr>\n",
    "</table>"
   ]
  },
  {
   "cell_type": "markdown",
   "id": "cbc32de0",
   "metadata": {},
   "source": [
    "<a id=\"mct\"></a>\n",
    "### Measures of Central Tendency\n",
    "A measure of central tendency is a value that distinguishes the central position of the data. It includes mean, median, mode and partition values of the data.\n",
    "\n",
    "1. **Mean**:\n",
    "It is defined as the ratio of the sum of all the observations to the total number of observations. It is affected by the presence of outliers.\n",
    "\n",
    "2. **Median**:\n",
    "It is the middlemost observation in the data when it is arranged in the increasing or decreasing order based on the values. It divides the dataset into two equal parts.\n",
    "\n",
    "3. **Mode**: \n",
    "It is defined as the value in the data with the highest frequency. There can be more than one mode in the data.\n",
    "\n",
    "4. **Partition values**:\n",
    "Partition values are defined as the values that divide the data into equal parts. `Quartiles` divide the data into 4 equal parts, `Deciles` divide the data into 10 equal parts and `Percentiles` divide the data into 100 equal parts."
   ]
  },
  {
   "cell_type": "code",
   "execution_count": 1,
   "id": "bf4a1adf",
   "metadata": {},
   "outputs": [
    {
     "name": "stdout",
     "output_type": "stream",
     "text": [
      "[1, 2, 3]\n",
      "Mean for list1 is 2.0\n",
      "Median for list1 is 2.0\n",
      "Mode for list1 is ModeResult(mode=array([1]), count=array([1]))\n",
      "\n",
      "\n",
      "****************************************************************************************************\n",
      "[1, 2, 3, 50]\n",
      "Mean for list1 is 14.0\n",
      "Median for list1 is 2.5\n",
      "Mode for list1 is ModeResult(mode=array([1]), count=array([1]))\n"
     ]
    },
    {
     "data": {
      "image/png": "[encoded data removed]",
      "text/plain": [
       "<Figure size 432x288 with 1 Axes>"
      ]
     },
     "metadata": {},
     "output_type": "display_data"
    }
   ],
   "source": [
    "import numpy as np\n",
    "from scipy import stats as st\n",
    "from matplotlib import gridspec\n",
    "%matplotlib inline\n",
    "\n",
    "# import 'seaborn'\n",
    "import seaborn as sns\n",
    "sns.set(style='whitegrid')\n",
    "# to suppress warnings \n",
    "from warnings import filterwarnings\n",
    "filterwarnings('ignore')\n",
    "\n",
    "#list1 is simple list containing 0 to 10 \n",
    "list1 = [1,2,3]\n",
    "print(list1)\n",
    "print(f\"Mean for list1 is {np.mean(list1)}\")\n",
    "print(f\"Median for list1 is {np.median(list1)}\")\n",
    "print(f\"Mode for list1 is {st.mode(list1)}\")\n",
    "sns.boxenplot(list1)\n",
    "#Now adding max value and checking mean and median difference\n",
    "list1.append(50)\n",
    "print(\"\\n\")\n",
    "print(\"*\"*100)\n",
    "print(list1)\n",
    "print(f\"Mean for list1 is {np.mean(list1)}\")\n",
    "print(f\"Median for list1 is {np.median(list1)}\")\n",
    "print(f\"Mode for list1 is {st.mode(list1)}\")\n",
    "# sns.boxenplot(list1)\n"
   ]
  },
  {
   "cell_type": "markdown",
   "id": "4d3b81a6",
   "metadata": {},
   "source": [
    "<a id=\"md\"></a>\n",
    "## Measures of Dispersion \n",
    "<b>Dispersion</b> is the state of getting dispersed or spread. Statistical dispersion means the extent to which numerical data is likely to vary about an average value. In other words, dispersion helps to understand the distribution of the data and also can be defined as measures the extent to which the items vary from some central value, it is also called scatter,spread or varation.\n",
    "  <table align=\"left\" width=100%>\n",
    "    <tr>\n",
    "        <td width=\"300%\">\n",
    "            <img src=\"dispersion.png\">\n",
    "        </td>\n",
    "        <td>\n",
    "            <div align=\"center\">\n",
    "                <font color=\"#21618C\" size=8px>\n",
    "                  <b> Type of attributes </b>\n",
    "                </font>\n",
    "            </div>\n",
    "        </td>\n",
    "    </tr>\n",
    "</table>\n",
    "1. **Range**:\n",
    "It is defined as the difference between the largest and smallest observation in the data. It is affected by the presence of extreme observations.\n",
    "\n",
    "<b>Variance::</b>\n",
    "It calculates the dispersion of the data from the mean. It is defined as the average of the sum of squares of the difference between the observation and the mean.\n",
    "  <table align=\"left\" width=100%>\n",
    "    <tr>\n",
    "        <td width=\"300%\">\n",
    "            <img src=\"variance.jpg\">\n",
    "        </td>\n",
    "        <td>\n",
    "            <div align=\"center\">\n",
    "                <font color=\"#21618C\" size=8px>\n",
    "                  <b> Type of attributes </b>\n",
    "                </font>\n",
    "            </div>\n",
    "        </td>\n",
    "    </tr>\n",
    "</table>\n",
    "\n",
    "<b>Standard Deviation:</b>\n",
    "It is the positive square root of variance. The unit of standard deviation is the same as the unit of data points. The variable with near-zero standard deviation is least important for the analysis.\n",
    " \n",
    " <table align=\"left\" width=100%>\n",
    "    <tr>\n",
    "        <td width=\"300%\">\n",
    "            <img src=\"std.jpg\">\n",
    "        </td>\n",
    "        <td>\n",
    "            <div align=\"center\">\n",
    "                <font color=\"#21618C\" size=8px>\n",
    "                  <b> Type of attributes </b>\n",
    "                </font>\n",
    "            </div>\n",
    "        </td>\n",
    "    </tr>\n",
    "</table>\n",
    "\n",
    "<b>Coefficient of Variation:</b>\n",
    "It is a measure of the dispersion of data points around the mean. It is always expressed in percentage. We can compare the coefficient of variation of two or more groups to identify the group with more spread.\n",
    "  \n",
    "  <table align=\"left\" width=100%>\n",
    "    <tr>\n",
    "        <td width=\"300%\">\n",
    "            <img src=\"Coefficient of Variation.jpg\">\n",
    "        </td>\n",
    "        <td>\n",
    "            <div align=\"center\">\n",
    "                <font color=\"#21618C\" size=8px>\n",
    "                  <b> Type of attributes </b>\n",
    "                </font>\n",
    "            </div>\n",
    "        </td>\n",
    "    </tr>\n",
    "</table>\n",
    "\n",
    "<b>Interquartile Range (IQR):</b>\n",
    "It is defined as the difference between the third and first quartiles. It returns the range of the middle 50% of the data. IQR can be used to identify the outliers in the data.\n",
    "   - The first quartile (Q1), is defined as the middle number between the smallest number and the median of the data set.\n",
    "   - The second quartile (Q2), median of the given data set.\n",
    "   - The third quartile (Q3), is the middle number between the median and the largest value of the data set.\n",
    "   - <b>IQR </b>= Q3 – Q1\n",
    "\n"
   ]
  },
  {
   "cell_type": "markdown",
   "id": "ba44a6d9",
   "metadata": {},
   "source": [
    "<b>Coefficient of Variation (CV) vs. Standard Deviation</b>\n",
    "The standard deviation is a statistic that measures the dispersion of a dataset relative to its mean. It is used to determine the spread of values in a single dataset rather than to compare different units.\n",
    "\n",
    "When we want to compare two or more datasets, the coefficient of variation is used. The CV is the ratio of the standard deviation to the mean. And because it’s independent of the unit in which the measurement was taken, it can be used to compare datasets with different units or widely different means.\n",
    "\n",
    "In short, the standard deviation measures how far the average value lies from the mean whereas the coefficient of variation measures the ratio of the standard deviation to the mean.\n",
    " -sad"
   ]
  },
  {
   "cell_type": "code",
   "execution_count": 2,
   "id": "32c90caa",
   "metadata": {},
   "outputs": [
    {
     "name": "stdout",
     "output_type": "stream",
     "text": [
      "Range of given list2 [2202, 9326, 1034, 4180, 1932, 8118, 7365, 7738, 6220, 3440, 1538, 7994, 465, 6387, 7091, 9953, 35, 7298, 4364, 3749]is:\t 9918\n"
     ]
    }
   ],
   "source": [
    "#Range:\n",
    "import random\n",
    "random.seed(1)\n",
    "list2 = [random.randint(1,9999) for i in range(20)]\n",
    "print(f\"Range of given list2 {list2}is:\\t {max(list2)-min(list2)}\")"
   ]
  },
  {
   "cell_type": "code",
   "execution_count": 3,
   "id": "996afc39",
   "metadata": {},
   "outputs": [
    {
     "data": {
      "text/plain": [
       "array([-0.12168075, -0.09463589, -0.11517509, -0.08813038,  0.07238657,\n",
       "       -0.02949597, -0.07162709,  0.03559032, -0.1168428 ,  0.20777279,\n",
       "       -0.04392102, -0.13262067,  0.02725701,  0.04766214,  0.14773358,\n",
       "        0.1140147 , -0.05172156,  0.1742041 , -0.116058  , -0.20209109])"
      ]
     },
     "execution_count": 3,
     "metadata": {},
     "output_type": "execute_result"
    }
   ],
   "source": [
    "s = np.random.normal(0,0.1, 20)\n",
    "s"
   ]
  },
  {
   "cell_type": "code",
   "execution_count": 4,
   "id": "646875c0",
   "metadata": {},
   "outputs": [
    {
     "name": "stdout",
     "output_type": "stream",
     "text": [
      "Variance of list1  is 9648807.418421052 \n"
     ]
    }
   ],
   "source": [
    "#variance\n",
    "from statistics import variance\n",
    "print(\"Variance of list1  is % s \" %(variance(list2)))\n"
   ]
  },
  {
   "cell_type": "code",
   "execution_count": 5,
   "id": "a4062685",
   "metadata": {},
   "outputs": [
    {
     "name": "stdout",
     "output_type": "stream",
     "text": [
      "Standard Deviation of list1  is 3027.600873216283 \n"
     ]
    }
   ],
   "source": [
    "#Standard Deviation\n",
    "print(\"Standard Deviation of list1  is % s \" %(np.std(list2)))"
   ]
  },
  {
   "cell_type": "code",
   "execution_count": 6,
   "id": "11ada138",
   "metadata": {},
   "outputs": [
    {
     "name": "stdout",
     "output_type": "stream",
     "text": [
      "5484.5\n"
     ]
    }
   ],
   "source": [
    "# First quartile (Q1)\n",
    "Q1 = np.percentile(list2, 25, interpolation = 'midpoint')\n",
    "  \n",
    "# Third quartile (Q3)\n",
    "Q3 = np.percentile(list2, 75, interpolation = 'midpoint')\n",
    "  \n",
    "# Interquaritle range (IQR)\n",
    "IQR = Q3 - Q1\n",
    "  \n",
    "print(IQR)"
   ]
  },
  {
   "cell_type": "markdown",
   "id": "afe66026",
   "metadata": {},
   "source": [
    "<a id=\"nd\"></a>\n",
    "### Normal distribution\n",
    "<b>Normal distribution</b> also called Gaussian distribution, the most common distribution function for independent, randomly generated variables. Its familiar bell-shaped curve is ubiquitous in statistical reports, from survey analysis and quality control to resource allocation.\n",
    "\n",
    "  <table align=\"left\" width=100%>\n",
    "    <tr>\n",
    "        <td width=\"300%\">\n",
    "            <img src=\"normaldist.jpg\">\n",
    "        </td>\n",
    "        <td>\n",
    "      \n",
    "        </td>\n",
    "    </tr>\n",
    "</table>\n",
    "\n",
    "  <table align=\"left\" width=100%>\n",
    "    <tr>\n",
    "        <td width=\"300%\">\n",
    "            <img src=\"normaldist1.jpg\">\n",
    "        </td>\n",
    "        <td>\n",
    "      \n",
    "        </td>\n",
    "    </tr>\n",
    "</table>\n",
    "\n",
    "<b>The Empirical Rule</b>:\n",
    "   - Approximately  68%  of the data lie within one standard deviation of the mean, that is, in the interval with endpoints  x¯±s  for samples and with endpoints  μ±σ  for populations; if a data set has an approximately bell-shaped relative frequency histogram, then (Figure  2.5.2 )\n",
    "\n",
    "   - Approximately  95%  of the data lie within two standard deviations of the mean, that is, in the interval with endpoints  x¯±2s  for samples and with endpoints  μ±2σ  for populations; and\n",
    "   - Approximately  99.7%  of the data lies within three standard deviations of the mean, that is, in the interval with endpoints  x¯±3s  for samples and with endpoints  μ±3σ  for populations.\n",
    "   \n",
    "  <table align=\"left\" width=100%>\n",
    "    <tr>\n",
    "        <td width=\"300%\">\n",
    "            <img src=\"normaldist2.jpg\">\n",
    "        </td>\n",
    "        <td>\n",
    "      \n",
    "        </td>\n",
    "    </tr>\n",
    "</table>\n",
    "  <table align=\"left\" width=100%>\n",
    "    <tr>\n",
    "        <td width=\"300%\">\n",
    "            <img src=\"normaldist3.jpg\">\n",
    "        </td>\n",
    "        <td>\n",
    "      \n",
    "        </td>\n",
    "    </tr>\n",
    "  \n",
    "    \n",
    "    \n",
    "### Chebyshev’s Theorem\n",
    "The Empirical Rule does not apply to all data sets, only to those that are bell-shaped, and even then is stated in terms of approximations. A result that applies to every data set is known as <b>Chebyshev’s Theorem</b>.\n",
    "Chebyshev’s Theorem estimates the minimum proportion of observations that fall within a specified number of standard deviations from the mean.Chebyshev's Theorem is also known as Chebyshev's Inequality. \n",
    "  -  The fraction of any set of numbers lying within k standard deviations of those numbers of the mean of those numbers is at least\n",
    "    \n",
    " \n",
    "  <table align=\"left\" width=100%>\n",
    "    <tr>\n",
    "        <td width=\"100%\">\n",
    "            <img src=\"Chebyshev's Theorem - Copy.jpg\">\n",
    "        </td>\n",
    "        <td>\n",
    "      \n",
    "        </td>\n",
    "    </tr>"
   ]
  },
  {
   "cell_type": "markdown",
   "id": "223e9a11",
   "metadata": {},
   "source": [
    "### Skewness:\n",
    "It measures the degree to which the distribution of the data differs from the normal distribution. The value of skewness can be `positive`, `negative`, or `zero`.\n",
    "\n",
    "### Kurtosis:\n",
    "It identifies the peakedness of the data distribution. The positive value of kurtosis represents the `leptokurtic` distribution, the negative value represents the `platykurtic` distribution, and zero value represents the `mesokurtic` distribution."
   ]
  }
 ],
 "metadata": {
  "kernelspec": {
   "display_name": "Python 3 (ipykernel)",
   "language": "python",
   "name": "python3"
  },
  "language_info": {
   "codemirror_mode": {
    "name": "ipython",
    "version": 3
   },
   "file_extension": ".py",
   "mimetype": "text/x-python",
   "name": "python",
   "nbconvert_exporter": "python",
   "pygments_lexer": "ipython3",
   "version": "3.9.5"
  }
 },
 "nbformat": 4,
 "nbformat_minor": 5
}
